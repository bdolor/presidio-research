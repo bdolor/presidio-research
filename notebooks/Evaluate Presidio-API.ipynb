{
 "cells": [
  {
   "cell_type": "code",
   "execution_count": 1,
   "metadata": {
    "pycharm": {
     "is_executing": false
    }
   },
   "outputs": [],
   "source": [
    "from presidio_evaluator.data_generator import read_synth_dataset\n",
    "from presidio_evaluator import ModelEvaluator\n",
    "from collections import Counter\n",
    "\n",
    "%load_ext autoreload\n",
    "%autoreload 2\n",
    "\n",
    "MY_PRESIDIO_ENDPOINT = \"http://presidio-api.westeurope.cloudapp.azure.com/api/v1/projects/test/analyze\""
   ]
  },
  {
   "cell_type": "markdown",
   "metadata": {},
   "source": [
    "## Evaluate your Presidio instance via the Presidio API"
   ]
  },
  {
   "cell_type": "markdown",
   "metadata": {},
   "source": [
    "#### A. Read dataset for evaluation"
   ]
  },
  {
   "cell_type": "code",
   "execution_count": 2,
   "metadata": {
    "pycharm": {
     "is_executing": false
    }
   },
   "outputs": [
    {
     "name": "stdout",
     "text": [
      "Read 300 samples\n"
     ],
     "output_type": "stream"
    }
   ],
   "source": [
    "input_samples = read_synth_dataset(\"../data/synth_dataset.json\")\n",
    "print(\"Read {} samples\".format(len(input_samples)))"
   ]
  },
  {
   "cell_type": "markdown",
   "metadata": {},
   "source": [
    "#### B. Descriptive statistics"
   ]
  },
  {
   "cell_type": "code",
   "execution_count": 3,
   "metadata": {
    "pycharm": {
     "is_executing": false
    }
   },
   "outputs": [
    {
     "data": {
      "text/plain": "Counter({'PERSON': 174,\n         'CREDIT_CARD': 49,\n         'LOCATION': 75,\n         'ORGANIZATION': 48,\n         'US_SSN': 1,\n         'EMAIL': 11,\n         'BIRTHDAY': 4,\n         'TITLE': 4,\n         'URL': 8,\n         'PHONE_NUMBER': 9,\n         'IP_ADDRESS': 3,\n         'IBAN': 3,\n         'NATIONALITY': 1})"
     },
     "metadata": {},
     "output_type": "execute_result",
     "execution_count": 3
    }
   ],
   "source": [
    "flatten = lambda l: [item for sublist in l for item in sublist]\n",
    "\n",
    "count_per_entity = Counter([span.entity_type for span in flatten([input_sample.spans for input_sample in input_samples])])\n",
    "count_per_entity"
   ]
  },
  {
   "cell_type": "markdown",
   "metadata": {},
   "source": [
    "#### C. Match the dataset's entity names with Presidio's entity names"
   ]
  },
  {
   "cell_type": "code",
   "execution_count": 4,
   "metadata": {
    "pycharm": {
     "is_executing": false
    }
   },
   "outputs": [],
   "source": [
    "# Mapping between dataset entities and Presidio entities. Key: Dataset entity, Value: Presidio entity\n",
    "entities_mapping = {\n",
    "    'PERSON': 'PERSON',\n",
    "    'EMAIL': 'EMAIL_ADDRESS',\n",
    "    'CREDIT_CARD': 'CREDIT_CARD',\n",
    "    'FIRST_NAME': 'PERSON',\n",
    "    'PHONE_NUMBER': 'PHONE_NUMBER',\n",
    "    'LOCATION':'LOCATION',\n",
    "    # 'BIRTHDAY': 'DATE_TIME',\n",
    "    # 'DATE': 'DATE_TIME',\n",
    "    'DOMAIN': 'DOMAIN',\n",
    "    #    'CITY': 'LOCATION',\n",
    "    #    'ADDRESS': 'LOCATION',\n",
    "    'IBAN': 'IBAN_CODE',\n",
    "    # 'URL': 'DOMAIN_NAME',\n",
    "    'US_SSN': 'US_SSN',\n",
    "    'IP_ADDRESS': 'IP_ADDRESS',\n",
    "    # 'ORGANIZATION':'ORG'\n",
    "    'O': 'O'\n",
    "}\n",
    "presidio_fields = ['CREDIT_CARD', 'CRYPTO', 'DATE_TIME', 'DOMAIN_NAME', 'EMAIL_ADDRESS', 'IBAN_CODE',\n",
    "                           'IP_ADDRESS', 'NRP', 'LOCATION', 'PERSON', 'PHONE_NUMBER', 'US_SSN']\n",
    "\n",
    "new_list = ModelEvaluator.align_input_samples_to_presidio_analyzer(input_samples,\n",
    "                                                                   entities_mapping,\n",
    "                                                                   presidio_fields)"
   ]
  },
  {
   "cell_type": "markdown",
   "metadata": {},
   "source": [
    "#### D. Recalculate statistics on updated dataset"
   ]
  },
  {
   "cell_type": "code",
   "execution_count": 5,
   "metadata": {
    "pycharm": {
     "is_executing": false
    }
   },
   "outputs": [
    {
     "data": {
      "text/plain": "Counter({'PERSON': 174,\n         'CREDIT_CARD': 49,\n         'LOCATION': 75,\n         'US_SSN': 1,\n         'EMAIL_ADDRESS': 11,\n         'PHONE_NUMBER': 9,\n         'IP_ADDRESS': 3,\n         'IBAN_CODE': 3})"
     },
     "metadata": {},
     "output_type": "execute_result",
     "execution_count": 5
    }
   ],
   "source": [
    "## recheck counter\n",
    "count_per_entity_new = Counter([span.entity_type for span in flatten([input_sample.spans for input_sample in new_list])])\n",
    "count_per_entity_new"
   ]
  },
  {
   "cell_type": "markdown",
   "metadata": {},
   "source": [
    "#### E. Run the presidio-evaluator framework with Presidio's API as the 'model' at test"
   ]
  },
  {
   "cell_type": "code",
   "execution_count": null,
   "metadata": {
    "pycharm": {
     "is_executing": true
    }
   },
   "outputs": [
    {
     "name": "stderr",
     "text": [
      "Evaluating <class 'presidio_evaluator.presidio_api_evaluator.PresidioAPIEvaluator'>:  19%|█▉        | 19/100 [00:24<01:45,  1.30s/it]"
     ],
     "output_type": "stream"
    }
   ],
   "source": [
    "from presidio_evaluator import PresidioAPIEvaluator\n",
    "presidio = PresidioAPIEvaluator(entities_to_keep=list(count_per_entity_new.keys()),endpoint=MY_PRESIDIO_ENDPOINT)\n",
    "evaluted_samples = presidio.evaluate_all(new_list[:100])"
   ]
  },
  {
   "cell_type": "markdown",
   "metadata": {},
   "source": [
    "#### F. Extract statistics\n",
    "- Presicion, recall and F measure are calculated based on a PII/Not PII binary classification per token.\n",
    "- Specific entity recall and precision are calculated on the specific PII entity level."
   ]
  },
  {
   "cell_type": "code",
   "execution_count": 7,
   "metadata": {
    "pycharm": {
     "is_executing": false
    }
   },
   "outputs": [],
   "source": [
    "evaluation_result = presidio.calculate_score(evaluted_samples)"
   ]
  },
  {
   "cell_type": "code",
   "execution_count": 8,
   "metadata": {
    "pycharm": {
     "is_executing": false
    }
   },
   "outputs": [
    {
     "name": "stdout",
     "text": [
      "                        Entity                     Precision                        Recall\n",
      "                        PERSON                        76.67%                        75.82%\n",
      "                   CREDIT_CARD                       100.00%                       100.00%\n",
      "                      LOCATION                         8.87%                        57.89%\n",
      "                        US_SSN                          nan%                          nan%\n",
      "                 EMAIL_ADDRESS                       100.00%                       100.00%\n",
      "                  PHONE_NUMBER                         0.00%                          nan%\n",
      "                    IP_ADDRESS                          nan%                          nan%\n",
      "                     IBAN_CODE                          nan%                          nan%\n",
      "                           PII                        51.71%                        94.53%\n",
      "PII F measure: 0.6685082872928177\n"
     ],
     "output_type": "stream"
    }
   ],
   "source": [
    "evaluation_result.print()"
   ]
  },
  {
   "cell_type": "markdown",
   "metadata": {},
   "source": [
    "#### G. Analyze wrong predictions"
   ]
  },
  {
   "cell_type": "code",
   "execution_count": 9,
   "metadata": {
    "pycharm": {
     "is_executing": false
    }
   },
   "outputs": [],
   "source": [
    "errors = evaluation_result.model_errors"
   ]
  },
  {
   "cell_type": "code",
   "execution_count": 10,
   "metadata": {
    "pycharm": {
     "is_executing": false
    }
   },
   "outputs": [
    {
     "name": "stdout",
     "text": [
      "Most common false positive tokens:\n",
      "[('Texas', 2), ('Eng', 1), ('Dun', 1), ('Rite', 1), ('Lawn', 1)]\n",
      "Example sentence with each FP token:\n",
      "Celebrating its 10th year in Villa de Ves, Trak Auto is a 501(c)3 that invites songwriters from around the world to Texas to share the universal language of music in collaborations designed to bridge cultures, build friendships and cultivate peace.\n",
      "Hello, this is Eng. Bojka Žilih. Who are you?\n",
      "Dun Rite Lawn Care is the brainchild of our 3 founders: Charlotte Park, Oline Mikaelsen and Brodie Walker.  The idea was born (on the beach) while they were constructing a website to be the basis of another start-up idea.\n",
      "Dun Rite Lawn Care is the brainchild of our 3 founders: Charlotte Park, Oline Mikaelsen and Brodie Walker.  The idea was born (on the beach) while they were constructing a website to be the basis of another start-up idea.\n",
      "Dun Rite Lawn Care is the brainchild of our 3 founders: Charlotte Park, Oline Mikaelsen and Brodie Walker.  The idea was born (on the beach) while they were constructing a website to be the basis of another start-up idea.\n"
     ],
     "output_type": "stream"
    }
   ],
   "source": [
    "ModelEvaluator.most_common_fp_tokens(errors,n=5)"
   ]
  },
  {
   "cell_type": "code",
   "execution_count": 11,
   "metadata": {
    "pycharm": {
     "name": "#%%\n",
     "is_executing": false
    }
   },
   "outputs": [
    {
     "data": {
      "text/plain": "                                           full_text token prediction\n0      Hello, this is Eng. Bojka Žilih. Who are you?   Eng     PERSON\n1  Dun Rite Lawn Care is the brainchild of our 3 ...   Dun     PERSON\n2  Dun Rite Lawn Care is the brainchild of our 3 ...  Rite     PERSON\n3  Dun Rite Lawn Care is the brainchild of our 3 ...  Lawn     PERSON\n4  Dun Rite Lawn Care is the brainchild of our 3 ...  Care     PERSON",
      "text/html": "<div>\n<style scoped>\n    .dataframe tbody tr th:only-of-type {\n        vertical-align: middle;\n    }\n\n    .dataframe tbody tr th {\n        vertical-align: top;\n    }\n\n    .dataframe thead th {\n        text-align: right;\n    }\n</style>\n<table border=\"1\" class=\"dataframe\">\n  <thead>\n    <tr style=\"text-align: right;\">\n      <th></th>\n      <th>full_text</th>\n      <th>token</th>\n      <th>prediction</th>\n    </tr>\n  </thead>\n  <tbody>\n    <tr>\n      <th>0</th>\n      <td>Hello, this is Eng. Bojka Žilih. Who are you?</td>\n      <td>Eng</td>\n      <td>PERSON</td>\n    </tr>\n    <tr>\n      <th>1</th>\n      <td>Dun Rite Lawn Care is the brainchild of our 3 ...</td>\n      <td>Dun</td>\n      <td>PERSON</td>\n    </tr>\n    <tr>\n      <th>2</th>\n      <td>Dun Rite Lawn Care is the brainchild of our 3 ...</td>\n      <td>Rite</td>\n      <td>PERSON</td>\n    </tr>\n    <tr>\n      <th>3</th>\n      <td>Dun Rite Lawn Care is the brainchild of our 3 ...</td>\n      <td>Lawn</td>\n      <td>PERSON</td>\n    </tr>\n    <tr>\n      <th>4</th>\n      <td>Dun Rite Lawn Care is the brainchild of our 3 ...</td>\n      <td>Care</td>\n      <td>PERSON</td>\n    </tr>\n  </tbody>\n</table>\n</div>"
     },
     "metadata": {},
     "output_type": "execute_result",
     "execution_count": 11
    }
   ],
   "source": [
    "fps_df = ModelEvaluator.get_fps_dataframe(errors,entity='PERSON')\n",
    "fps_df[['full_text','token','prediction']]"
   ]
  },
  {
   "cell_type": "code",
   "execution_count": 12,
   "metadata": {
    "pycharm": {
     "is_executing": false
    }
   },
   "outputs": [
    {
     "data": {
      "text/plain": "      error_type annotation prediction      token  \\\n0             FN     PERSON          O     Kotoya   \n1             FN     PERSON          O    Negishi   \n2             FN     PERSON          O    lincoln   \n3             FN     PERSON          O    wormald   \n4             FN     PERSON          O   Avtorhan   \n5             FN     PERSON          O     george   \n6   Wrong entity     PERSON   LOCATION       Nusa   \n7   Wrong entity     PERSON   LOCATION     Márkus   \n8             FN     PERSON          O      sofie   \n9             FN     PERSON          O     Herceg   \n10            FN     PERSON          O     Tiegan   \n11            FN     PERSON          O       Hill   \n12            FN     PERSON          O       Nusa   \n13            FN     PERSON          O     Weress   \n14            FN     PERSON          O     Bárður   \n15  Wrong entity     PERSON   LOCATION   Victoria   \n16  Wrong entity     PERSON   LOCATION  Charlotte   \n17  Wrong entity     PERSON   LOCATION       Park   \n18            FN     PERSON          O     Mikkel   \n19            FN     PERSON          O     Nestor   \n20  Wrong entity     PERSON   LOCATION    Bethany   \n\n                                            full_text  Gender  \\\n0   Kotoya Negishi listed his top 20 songs for Ent...    male   \n1   Kotoya Negishi listed his top 20 songs for Ent...    male   \n2   from the film american graffiti (also features...    male   \n3   from the film american graffiti (also features...    male   \n4          Avtorhan, can I please speak to your boss?    male   \n5            george, can i please speak to your boss?    male   \n6               have you heard Nusa Márkus speak yet?  female   \n7               have you heard Nusa Márkus speak yet?  female   \n8                      sometimes people call me sofie  female   \n9                       What's your last name? Herceg  female   \n10  The Tiegan Hill version recorded for Great Wes...  female   \n11  The Tiegan Hill version recorded for Great Wes...  female   \n12  Nusa Weress listed his top 20 songs for Entert...    male   \n13  Nusa Weress listed his top 20 songs for Entert...    male   \n14            I'm so jealous! said Bárður to Victoria  female   \n15            I'm so jealous! said Bárður to Victoria  female   \n16  Dun Rite Lawn Care is the brainchild of our 3 ...    male   \n17  Dun Rite Lawn Care is the brainchild of our 3 ...    male   \n18  Mikkel is a very sympathetic person. He's also...    male   \n19  Nestor is a very sympathetic person. He's also...    male   \n20                       Why is Bethany so impulsive?  female   \n\n            NameSet             Country  Lowercase  Template#  \n0          American              France      False        103  \n1          American              France      False        103  \n2        Australian              Monaco       True        104  \n3        Australian              Monaco       True        104  \n4   Chechen (Latin)            Portugal      False         37  \n5        Australian            Djibouti       True         37  \n6         Hungarian              Guinea      False         91  \n7         Hungarian              Guinea      False         91  \n8         Greenland           Australia       True         74  \n9          Croatian  Dominican Republic      False         67  \n10         Scottish  Cape Verde Islands      False        110  \n11         Scottish  Cape Verde Islands      False        110  \n12           Polish               Yemen      False        103  \n13           Polish               Yemen      False        103  \n14           Danish            Cameroon      False         93  \n15           Danish            Cameroon      False         93  \n16         Scottish                Asia      False        117  \n17         Scottish                Asia      False        117  \n18           Danish          Yugoslavia      False         87  \n19          Russian              Sweden      False         87  \n20       Australian             England      False         89  ",
      "text/html": "<div>\n<style scoped>\n    .dataframe tbody tr th:only-of-type {\n        vertical-align: middle;\n    }\n\n    .dataframe tbody tr th {\n        vertical-align: top;\n    }\n\n    .dataframe thead th {\n        text-align: right;\n    }\n</style>\n<table border=\"1\" class=\"dataframe\">\n  <thead>\n    <tr style=\"text-align: right;\">\n      <th></th>\n      <th>error_type</th>\n      <th>annotation</th>\n      <th>prediction</th>\n      <th>token</th>\n      <th>full_text</th>\n      <th>Gender</th>\n      <th>NameSet</th>\n      <th>Country</th>\n      <th>Lowercase</th>\n      <th>Template#</th>\n    </tr>\n  </thead>\n  <tbody>\n    <tr>\n      <th>0</th>\n      <td>FN</td>\n      <td>PERSON</td>\n      <td>O</td>\n      <td>Kotoya</td>\n      <td>Kotoya Negishi listed his top 20 songs for Ent...</td>\n      <td>male</td>\n      <td>American</td>\n      <td>France</td>\n      <td>False</td>\n      <td>103</td>\n    </tr>\n    <tr>\n      <th>1</th>\n      <td>FN</td>\n      <td>PERSON</td>\n      <td>O</td>\n      <td>Negishi</td>\n      <td>Kotoya Negishi listed his top 20 songs for Ent...</td>\n      <td>male</td>\n      <td>American</td>\n      <td>France</td>\n      <td>False</td>\n      <td>103</td>\n    </tr>\n    <tr>\n      <th>2</th>\n      <td>FN</td>\n      <td>PERSON</td>\n      <td>O</td>\n      <td>lincoln</td>\n      <td>from the film american graffiti (also features...</td>\n      <td>male</td>\n      <td>Australian</td>\n      <td>Monaco</td>\n      <td>True</td>\n      <td>104</td>\n    </tr>\n    <tr>\n      <th>3</th>\n      <td>FN</td>\n      <td>PERSON</td>\n      <td>O</td>\n      <td>wormald</td>\n      <td>from the film american graffiti (also features...</td>\n      <td>male</td>\n      <td>Australian</td>\n      <td>Monaco</td>\n      <td>True</td>\n      <td>104</td>\n    </tr>\n    <tr>\n      <th>4</th>\n      <td>FN</td>\n      <td>PERSON</td>\n      <td>O</td>\n      <td>Avtorhan</td>\n      <td>Avtorhan, can I please speak to your boss?</td>\n      <td>male</td>\n      <td>Chechen (Latin)</td>\n      <td>Portugal</td>\n      <td>False</td>\n      <td>37</td>\n    </tr>\n    <tr>\n      <th>5</th>\n      <td>FN</td>\n      <td>PERSON</td>\n      <td>O</td>\n      <td>george</td>\n      <td>george, can i please speak to your boss?</td>\n      <td>male</td>\n      <td>Australian</td>\n      <td>Djibouti</td>\n      <td>True</td>\n      <td>37</td>\n    </tr>\n    <tr>\n      <th>6</th>\n      <td>Wrong entity</td>\n      <td>PERSON</td>\n      <td>LOCATION</td>\n      <td>Nusa</td>\n      <td>have you heard Nusa Márkus speak yet?</td>\n      <td>female</td>\n      <td>Hungarian</td>\n      <td>Guinea</td>\n      <td>False</td>\n      <td>91</td>\n    </tr>\n    <tr>\n      <th>7</th>\n      <td>Wrong entity</td>\n      <td>PERSON</td>\n      <td>LOCATION</td>\n      <td>Márkus</td>\n      <td>have you heard Nusa Márkus speak yet?</td>\n      <td>female</td>\n      <td>Hungarian</td>\n      <td>Guinea</td>\n      <td>False</td>\n      <td>91</td>\n    </tr>\n    <tr>\n      <th>8</th>\n      <td>FN</td>\n      <td>PERSON</td>\n      <td>O</td>\n      <td>sofie</td>\n      <td>sometimes people call me sofie</td>\n      <td>female</td>\n      <td>Greenland</td>\n      <td>Australia</td>\n      <td>True</td>\n      <td>74</td>\n    </tr>\n    <tr>\n      <th>9</th>\n      <td>FN</td>\n      <td>PERSON</td>\n      <td>O</td>\n      <td>Herceg</td>\n      <td>What's your last name? Herceg</td>\n      <td>female</td>\n      <td>Croatian</td>\n      <td>Dominican Republic</td>\n      <td>False</td>\n      <td>67</td>\n    </tr>\n    <tr>\n      <th>10</th>\n      <td>FN</td>\n      <td>PERSON</td>\n      <td>O</td>\n      <td>Tiegan</td>\n      <td>The Tiegan Hill version recorded for Great Wes...</td>\n      <td>female</td>\n      <td>Scottish</td>\n      <td>Cape Verde Islands</td>\n      <td>False</td>\n      <td>110</td>\n    </tr>\n    <tr>\n      <th>11</th>\n      <td>FN</td>\n      <td>PERSON</td>\n      <td>O</td>\n      <td>Hill</td>\n      <td>The Tiegan Hill version recorded for Great Wes...</td>\n      <td>female</td>\n      <td>Scottish</td>\n      <td>Cape Verde Islands</td>\n      <td>False</td>\n      <td>110</td>\n    </tr>\n    <tr>\n      <th>12</th>\n      <td>FN</td>\n      <td>PERSON</td>\n      <td>O</td>\n      <td>Nusa</td>\n      <td>Nusa Weress listed his top 20 songs for Entert...</td>\n      <td>male</td>\n      <td>Polish</td>\n      <td>Yemen</td>\n      <td>False</td>\n      <td>103</td>\n    </tr>\n    <tr>\n      <th>13</th>\n      <td>FN</td>\n      <td>PERSON</td>\n      <td>O</td>\n      <td>Weress</td>\n      <td>Nusa Weress listed his top 20 songs for Entert...</td>\n      <td>male</td>\n      <td>Polish</td>\n      <td>Yemen</td>\n      <td>False</td>\n      <td>103</td>\n    </tr>\n    <tr>\n      <th>14</th>\n      <td>FN</td>\n      <td>PERSON</td>\n      <td>O</td>\n      <td>Bárður</td>\n      <td>I'm so jealous! said Bárður to Victoria</td>\n      <td>female</td>\n      <td>Danish</td>\n      <td>Cameroon</td>\n      <td>False</td>\n      <td>93</td>\n    </tr>\n    <tr>\n      <th>15</th>\n      <td>Wrong entity</td>\n      <td>PERSON</td>\n      <td>LOCATION</td>\n      <td>Victoria</td>\n      <td>I'm so jealous! said Bárður to Victoria</td>\n      <td>female</td>\n      <td>Danish</td>\n      <td>Cameroon</td>\n      <td>False</td>\n      <td>93</td>\n    </tr>\n    <tr>\n      <th>16</th>\n      <td>Wrong entity</td>\n      <td>PERSON</td>\n      <td>LOCATION</td>\n      <td>Charlotte</td>\n      <td>Dun Rite Lawn Care is the brainchild of our 3 ...</td>\n      <td>male</td>\n      <td>Scottish</td>\n      <td>Asia</td>\n      <td>False</td>\n      <td>117</td>\n    </tr>\n    <tr>\n      <th>17</th>\n      <td>Wrong entity</td>\n      <td>PERSON</td>\n      <td>LOCATION</td>\n      <td>Park</td>\n      <td>Dun Rite Lawn Care is the brainchild of our 3 ...</td>\n      <td>male</td>\n      <td>Scottish</td>\n      <td>Asia</td>\n      <td>False</td>\n      <td>117</td>\n    </tr>\n    <tr>\n      <th>18</th>\n      <td>FN</td>\n      <td>PERSON</td>\n      <td>O</td>\n      <td>Mikkel</td>\n      <td>Mikkel is a very sympathetic person. He's also...</td>\n      <td>male</td>\n      <td>Danish</td>\n      <td>Yugoslavia</td>\n      <td>False</td>\n      <td>87</td>\n    </tr>\n    <tr>\n      <th>19</th>\n      <td>FN</td>\n      <td>PERSON</td>\n      <td>O</td>\n      <td>Nestor</td>\n      <td>Nestor is a very sympathetic person. He's also...</td>\n      <td>male</td>\n      <td>Russian</td>\n      <td>Sweden</td>\n      <td>False</td>\n      <td>87</td>\n    </tr>\n    <tr>\n      <th>20</th>\n      <td>Wrong entity</td>\n      <td>PERSON</td>\n      <td>LOCATION</td>\n      <td>Bethany</td>\n      <td>Why is Bethany so impulsive?</td>\n      <td>female</td>\n      <td>Australian</td>\n      <td>England</td>\n      <td>False</td>\n      <td>89</td>\n    </tr>\n  </tbody>\n</table>\n</div>"
     },
     "metadata": {},
     "output_type": "execute_result",
     "execution_count": 12
    }
   ],
   "source": [
    "fns_df = ModelEvaluator.get_fns_dataframe(errors,entity='PERSON')\n",
    "fns_df"
   ]
  },
  {
   "cell_type": "code",
   "execution_count": null,
   "outputs": [],
   "source": [
    "\n"
   ],
   "metadata": {
    "collapsed": false,
    "pycharm": {
     "name": "#%%\n"
    }
   }
  }
 ],
 "metadata": {
  "kernelspec": {
   "name": "python3",
   "language": "python",
   "display_name": "Python 3"
  },
  "language_info": {
   "codemirror_mode": {
    "name": "ipython",
    "version": 3
   },
   "file_extension": ".py",
   "mimetype": "text/x-python",
   "name": "python",
   "nbconvert_exporter": "python",
   "pygments_lexer": "ipython3",
   "version": "3.7.4"
  },
  "pycharm": {
   "stem_cell": {
    "cell_type": "raw",
    "source": [],
    "metadata": {
     "collapsed": false
    }
   }
  }
 },
 "nbformat": 4,
 "nbformat_minor": 2
}