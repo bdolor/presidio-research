{
 "cells": [
  {
   "cell_type": "markdown",
   "metadata": {},
   "source": [
    "# Spacy dataset creation"
   ]
  },
  {
   "cell_type": "markdown",
   "metadata": {
    "pycharm": {
     "name": "#%% md\n"
    }
   },
   "source": [
    "This notebook takes train and test  datasets (of type `List[InputSample]`)\n",
    "and transforms them into two structures consumed by Spacy:\n",
    "1. Spacy JSON (see https://spacy.io/api/annotation#json-input)\n",
    "2. Spacy Pickle files (of structure `[(full_text,\"entities\":[(start, end, type),(...))]`.  \n",
    "See more details here: https://spacy.io/api/annotation#json-input)\n",
    "\n",
    "JSON is used for Spacy's CLI trainer. \n",
    "Pickle is used for fine-tuning using the logic in [../models/spacy_retrain.py](../models/spacy_retrain.py)"
   ]
  },
  {
   "cell_type": "code",
   "execution_count": 1,
   "metadata": {
    "pycharm": {
     "is_executing": false
    }
   },
   "outputs": [],
   "source": [
    "from presidio_evaluator.data_generator import read_synth_dataset\n",
    "%reload_ext autoreload"
   ]
  },
  {
   "cell_type": "code",
   "execution_count": 2,
   "metadata": {
    "pycharm": {
     "name": "#%%\n",
     "is_executing": false
    }
   },
   "outputs": [],
   "source": [
    "DATA_DATE = 'February_28_2020'\n",
    "size = 100"
   ]
  },
  {
   "cell_type": "code",
   "execution_count": 3,
   "metadata": {
    "pycharm": {
     "name": "#%%\n",
     "is_executing": false
    }
   },
   "outputs": [
    {
     "name": "stdout",
     "text": [
      "Read 213 samples\n"
     ],
     "output_type": "stream"
    }
   ],
   "source": [
    "data_path = \"../../data/{}_{}.json\"\n",
    "\n",
    "train_samples = read_synth_dataset(data_path.format(\"train\",DATA_DATE))\n",
    "print(\"Read {} samples\".format(len(train_samples)))"
   ]
  },
  {
   "cell_type": "markdown",
   "metadata": {
    "pycharm": {
     "name": "#%% md\n"
    }
   },
   "source": [
    "For training, keep only sentences with entities:"
   ]
  },
  {
   "cell_type": "code",
   "execution_count": 4,
   "metadata": {
    "pycharm": {
     "is_executing": false
    }
   },
   "outputs": [
    {
     "name": "stdout",
     "text": [
      "Kept 194 samples after removal of non-tagged samples\n"
     ],
     "output_type": "stream"
    }
   ],
   "source": [
    "train_tagged = [sample for sample in train_samples if len(sample.spans)>0]\n",
    "print(\"Kept {} samples after removal of non-tagged samples\".format(len(train_tagged)))"
   ]
  },
  {
   "cell_type": "markdown",
   "metadata": {
    "pycharm": {
     "name": "#%% md\n"
    }
   },
   "source": [
    "Evaluate training set's entities"
   ]
  },
  {
   "cell_type": "code",
   "execution_count": 5,
   "metadata": {
    "pycharm": {
     "name": "#%%\n",
     "is_executing": false
    }
   },
   "outputs": [
    {
     "name": "stdout",
     "text": [
      "Entities found in training set:\n"
     ],
     "output_type": "stream"
    },
    {
     "data": {
      "text/plain": "{'B-LOCATION',\n 'B-ORGANIZATION',\n 'B-PERSON',\n 'B-PHONE_NUMBER',\n 'B-TITLE',\n 'I-LOCATION',\n 'I-ORGANIZATION',\n 'I-PERSON',\n 'I-PHONE_NUMBER',\n 'L-LOCATION',\n 'L-ORGANIZATION',\n 'L-PERSON',\n 'L-PHONE_NUMBER',\n 'L-TITLE',\n 'O',\n 'U-BIRTHDAY',\n 'U-CREDIT_CARD',\n 'U-EMAIL',\n 'U-IBAN',\n 'U-LOCATION',\n 'U-NATIONALITY',\n 'U-ORGANIZATION',\n 'U-PERSON',\n 'U-TITLE'}"
     },
     "metadata": {},
     "output_type": "execute_result",
     "execution_count": 5
    }
   ],
   "source": [
    "print(\"Entities found in training set:\")\n",
    "entities = []\n",
    "for sample in train_tagged:\n",
    "    entities.extend([tag for tag in sample.tags])\n",
    "set(entities)"
   ]
  },
  {
   "cell_type": "markdown",
   "metadata": {
    "pycharm": {
     "name": "#%% md\n"
    }
   },
   "source": [
    "Create Spacy dataset (option 2)"
   ]
  },
  {
   "cell_type": "code",
   "execution_count": 6,
   "metadata": {
    "pycharm": {
     "name": "#%%\n",
     "is_executing": false
    }
   },
   "outputs": [],
   "source": [
    "from presidio_evaluator import InputSample\n",
    "import pickle\n",
    "\n",
    "spacy_train = InputSample.create_spacy_dataset(train_tagged)\n"
   ]
  },
  {
   "cell_type": "code",
   "execution_count": 7,
   "metadata": {
    "pycharm": {
     "is_executing": false
    }
   },
   "outputs": [
    {
     "data": {
      "text/plain": "{'GPE', 'O', 'ORG', 'PERSON'}"
     },
     "metadata": {},
     "output_type": "execute_result",
     "execution_count": 7
    }
   ],
   "source": [
    "entities_spacy = [x[1]['entities'] for x in spacy_train]\n",
    "entities_spacy\n",
    "entities_spacy_flat = []\n",
    "for samp in entities_spacy:\n",
    "    for ent in samp:\n",
    "        entities_spacy_flat.append(ent[2])\n",
    "set(entities_spacy_flat)"
   ]
  },
  {
   "cell_type": "markdown",
   "metadata": {},
   "source": [
    "Create Spacy dataset (option 1: JSON)"
   ]
  },
  {
   "cell_type": "code",
   "execution_count": 8,
   "metadata": {
    "pycharm": {
     "is_executing": false
    }
   },
   "outputs": [
    {
     "name": "stderr",
     "text": [
      "194it [00:00, 17765.88it/s]\n"
     ],
     "output_type": "stream"
    }
   ],
   "source": [
    "from presidio_evaluator import InputSample\n",
    "spacy_train_json = InputSample.create_spacy_json(train_tagged)"
   ]
  },
  {
   "cell_type": "markdown",
   "metadata": {},
   "source": [
    "Quick evaluation of samples"
   ]
  },
  {
   "cell_type": "code",
   "execution_count": 9,
   "metadata": {
    "pycharm": {
     "is_executing": false
    }
   },
   "outputs": [
    {
     "data": {
      "text/plain": "['Please block card no 4929921611032795',\n 'have you heard Line Henriksen speak yet?',\n \"Please tell me your date of birth. It's 12/18/1989\",\n 'The address of Platinum Interior Design is Rue du Chapy 336, Groot-Bijgaarden 1702',\n \"A tribute to Laura Lane-Poole â€“ sadly, she wasn't impressed.\",\n 'I have lost my card 4929149013148403. Could you please block my credit card ASAP ? , My name is Valida Kishiev.',\n 'I want to increase limit on my card # 5509339531094917 for certain duration of time. is it possible?',\n 'sometimes people call me sofie',\n \"I have done an online order but didn't get any message on my registered 60-17-51-75. Could you please look into it ?\",\n \"I'd like to order a taxi to Smáratún 31, Vík 870\",\n 'I once lived in 1541 Wit Rd, Johannesburg 2051. I now live in Avenida Noruega 42, Vila Real 5000-047',\n 'How do I change the address linked to my credit card to Kringlan 66, Reykjavík 107?',\n 'Need to see last 10 transaction of card 5114430119534676',\n 'Can I withdraw cash using my card 5150741044143598 at aTM center ?',\n 'have you been to a joar sandberg concert before?',\n 'Liviana Palerma will be talking in the conference',\n 'Jordan was super fun to visit!',\n 'Blink-182 pay tribute here to the Kazakhstan. Producer Stine Kristoffersen explained to Fuse TV: \"We all liked the idea of writing a song about our state, where we live and love. To me it\\'s the most beautiful place in the world, this song was us giving credit to how lucky we are to have lived here and grown up here, raising families here, the whole thing.\"',\n \"From the film American graffiti (also features Keijo Hänninen. What's not to love?\",\n 'can i withdraw cash using my card 5560986528159420 at atm center ?',\n \"I can't browse to your site, keep getting address  blocked error\",\n \"What's your last name? Annear\",\n \"I have done an online order but didn't get any message on my registered 780-775-0277. Could you please look into it ?\",\n 'My nam is Leif',\n \"I'm originally from Africa\",\n \"I've shared files with you \",\n \"What's your name? Milena Rossi\",\n \"I've shared files with you \",\n \"A tribute to Fábio Barros â€“ sadly, she wasn't impressed.\",\n 'what is procedure to redeem points won on credit card 4929366514784904 transactions ?',\n \"My card 4916843781747413 is expiring this month. Please let me know process to it's extend validity.\",\n \"What's your name? Longin Symanski\",\n 'Could you please email me the statement for laste month , my credit card number is 4929254733771086?',\n \"I'd like it to be sent to 4144 Sycamore Circle, Euless 76039\",\n 'have you heard Nusa Márkus speak yet?',\n \"This song by ex-Zombie Mazzi is a perfect example of why you shouldn't concentrate on the order of this list. An argument could be made that this should be at number one, and I wouldn't argue with it.\",\n 'In Rwanda} they have company songs, musical expressions of employee loyalty sung by salarymen. Unfortunately, as regular RR commenter Petra Balatková points out, \"most are horrible\".',\n \"Please tell me your date of birth. It's 4/21/1972\",\n 'you said your email is yahyaeriksson@gustr.com. is that correct?',\n 'It may be too that Bouvier was influenced by an earlier song, \"Carry Me Back To Scotland,\" which was arranged and sung by Nedim Hutinović in 1847 (though Hutinović\\'s song was actually about a boat!).',\n 'Avtorhan, can I please speak to your boss?',\n 'Georgia was super fun to visit!',\n \"This song by ex-Zombie Pratt is a perfect example of why you shouldn't concentrate on the order of this list. An argument could be made that this should be at number one, and I wouldn't argue with it.\",\n \"I'd like it to be sent to Rua Carlos Alberto de Morais 1696, Timon 65633-150\",\n 'Can I withdraw cash using my card 4929950890674928 at aTM center ?',\n 'I have lost my card 4532964794362281. Could you please block my credit card ASAP ? , My name is Carolina Lombardi.',\n '\"The big three\" of The Big Three Killed My Baby are the car manufacturers that dominate the economy of the White Stripes\\' home city Petosino: Steak And Ale, Rainbow Life and Hudson\\'S Menswear. \"Don\\'t feed me planned obsolescence,\" says Sarah Friis in an uncharacteristically political song, lamenting the demise of the unions in the 60s.',\n 'My name is Ella Snider but everyone calls me Ella',\n 'I want to cancel my card 4485161502276468 because I lost it',\n 'Zita, can I please speak to your boss?',\n \"Asian Answers songwriter Þórbergur Þorleifsson employs corporate lingo in the first verse of his Harold'S Resignation Letter\",\n 'have you heard Anđa Tomić speak yet?',\n 'I want to increase limit on my card # 5361238925377564 for certain duration of time. is it possible?',\n 'In Armenia} they have company songs, musical expressions of employee loyalty sung by salarymen. Unfortunately, as regular RR commenter Kian Brennan points out, \"most are horrible\".',\n 'The Tiegan Hill version recorded for Great Western became the first celebrity recording by a classical musician to sell one million copies. The song was awarded the seventh gold disc ever granted.',\n 'Blink-182 pay tribute here to the United Arab Emirates. Producer Jaroslava Sedláčková explained to Fuse TV: \"We all liked the idea of writing a song about our state, where we live and love. To me it\\'s the most beautiful place in the world, this song was us giving credit to how lucky we are to have lived here and grown up here, raising families here, the whole thing.\"',\n 'My website is ',\n \"When they weren't singing about Hobbits, satanic felines and interstellar journeys, they were singing about the verses from Sandra Bayer's Cautionary Tales. Is there a better example of unbridled creativity than early Bayer?\",\n \"Please have the manager call me at 66 554 64 62 I'd like to join accounts with ms. Đoko\",\n 'What is the limit for card 4929854539121566?',\n 'Need to see last 10 transaction of card 4556449812341468',\n 'south-america was super fun to visit!',\n 'I would like to remove my kid Róża from the will. How do I do that?',\n 'You said your email is VictorAndreyev@cuvox.de. Is that correct?',\n 'card number 5137226842425650 is lost, can you please send a new one to Σουνίου 121, ΛΑΡΝΑΚΑ 6014 i am in ΛΑΡΝΑΚΑ for a business trip',\n 'Uganda was super fun to visit!',\n 'My name appears incorrectly on credit card statement could you please correct it to Prof. Matthias Gloeckner?',\n 'The Home Centers Orchestra was founded in 1929. Since then, the TSO has grown from a volunteer community orchestra to a fully professional orchestra serving Southern Dominica',\n 'i want to cancel my card 4532781491729798 because i lost it',\n 'My name is Erik Baader but everyone calls me Erik',\n 'Please send my portfolio to this email ElishaFedorov@fleckens.hu',\n \"I'd like to order a taxi to Netelaan 258, Kortenaken 3470\",\n 'card number 5396108709524468 is lost, can you please send a new one to Lääne 64, Liivaküla 46218 i am in Liivaküla for a business trip',\n \"Spartacus is a very sympathetic person. He's also a good listener\",\n 'card number 4532035534037416 is lost, can you please send a new one to Alšova 408, Pribyslav 58222 i am in Pribyslav for a business trip',\n 'Hello, this is Eng. Bojka Žilih. Who are you?',\n 'The name in the account is not correct, please change it to Philip Jessen',\n 'What is the limit for card 4539339028467490?',\n 'Yolanda Oden will be talking in the conference',\n 'I would like to remove my kid Nedim from the will. How do I do that?',\n 'I need to add  addresses, here they are: Lukkarinmäentie 62, PORNAINEN 07170, Parmova 24, Mavčiče 4211',\n 'The name in the account is not correct, please change it to Alexandra Dalgety',\n 'The true gender of Innocent has been under debate for years, but the riff and building energy is a rock masterpiece regardless.',\n \"So where are we meeting? There's this nice new Thai place downtown. Cool, what's the address? Oh do they serve vegan stuff? It's in P.O. Box 242, Kangerlussuaq 3910\",\n 'Mission Statement: This non-profit founded by radio executives \"serves as an advocate for the value of music\" and \"supports its songwriters, composers and publishers by taking care of an important aspect of their careers â€“ getting paid,\" according to the Marianne website. They offer blanket music licenses to businesses and organizations that allow them to play nearly 13 million musical works.',\n \"Mie is a very sympathetic person. He's also a good listener\",\n \"for my take on mr. yokoi, see guilty pleasures: 5 musicians of the 70s you're supposed to hate (but secretly love)\",\n 'You said your email is MathiasEJespersen@armyspy.com. Is that correct?',\n \"I can't browse to your site, keep getting address  blocked error\",\n \"Please tell me your date of birth. It's 6/24/1958\",\n \"I'd like it to be sent to R Sardinha 65, Várzea 5040-033\",\n 'You can tell Monika was a huge Monika Chocholová fan. Written when he was only 14.',\n 'have you heard Leah Mitchell speak yet?',\n \"Aron is a very sympathetic person. He's also a good listener\",\n \"I'd like it to be sent to Dalmatinova 43, Velenje 3503\",\n 'Sometimes people call me Mayra',\n \"Mikkel is a very sympathetic person. He's also a good listener\",\n 'How do I change the address linked to my credit card to Letališka 75, Kobilje 9227?',\n 'mission statement: this non-profit founded by radio executives \"serves as an advocate for the value of music\" and \"supports its songwriters, composers and publishers by taking care of an important aspect of their careers â€“ getting paid,\" according to the i. magnin website. they offer blanket music licenses to businesses and organizations that allow them to play nearly 13 million musical works.',\n 'You can tell Lily was a huge Lily Bennett fan. Written when he was only 14.']"
     },
     "metadata": {},
     "output_type": "execute_result",
     "execution_count": 9
    }
   ],
   "source": [
    "[sample[0] for sample in spacy_train[:100]]"
   ]
  },
  {
   "cell_type": "code",
   "execution_count": 10,
   "metadata": {
    "pycharm": {
     "is_executing": false
    }
   },
   "outputs": [
    {
     "data": {
      "text/plain": "[{'tokens': [{'orth': 'Please', 'tag': 'UH', 'ner': 'O'},\n   {'orth': 'block', 'tag': 'NN', 'ner': 'O'},\n   {'orth': 'card', 'tag': 'NN', 'ner': 'O'},\n   {'orth': 'no', 'tag': 'DT', 'ner': 'O'},\n   {'orth': '4929921611032795', 'tag': 'CD', 'ner': 'O'}]}]"
     },
     "metadata": {},
     "output_type": "execute_result",
     "execution_count": 10
    }
   ],
   "source": [
    "spacy_train_json[0]['paragraphs'][0]['sentences']"
   ]
  },
  {
   "cell_type": "markdown",
   "metadata": {},
   "source": [
    "Dump training set to pickle and json respectively"
   ]
  },
  {
   "cell_type": "code",
   "execution_count": 11,
   "metadata": {
    "pycharm": {
     "is_executing": false
    }
   },
   "outputs": [],
   "source": [
    "import pickle\n",
    "import json\n",
    "with open(\"../../data/train.pickle\", 'wb') as handle:\n",
    "    pickle.dump(spacy_train,handle, protocol=pickle.HIGHEST_PROTOCOL)\n",
    "\n",
    "with open(\"../../data/train.json\",\"w\") as f:\n",
    "    json.dump(spacy_train_json,f)\n",
    "       "
   ]
  },
  {
   "cell_type": "markdown",
   "metadata": {},
   "source": [
    "Create JSON and pickle files for test dataset"
   ]
  },
  {
   "cell_type": "code",
   "execution_count": 12,
   "metadata": {
    "pycharm": {
     "is_executing": false
    }
   },
   "outputs": [
    {
     "name": "stdout",
     "text": [
      "Read 59 samples\n"
     ],
     "output_type": "stream"
    }
   ],
   "source": [
    "test_samples = read_synth_dataset(data_path.format(\"test\",DATA_DATE))\n",
    "print(\"Read {} samples\".format(len(test_samples)))"
   ]
  },
  {
   "cell_type": "code",
   "execution_count": 13,
   "metadata": {
    "pycharm": {
     "is_executing": false
    }
   },
   "outputs": [
    {
     "name": "stderr",
     "text": [
      "59it [00:00, 11821.71it/s]\n"
     ],
     "output_type": "stream"
    },
    {
     "name": "stdout",
     "text": [
      "('Szymon Walczak listed his top 20 songs for Entertainment Weekly and had the balls to list this song at #15. (What did he put at #1 you ask? Answer:\"Tube Snake Boogie\" by Fernanda Ricci â€“ go figure)', {'entities': [(0, 14, 'PERSON'), (170, 184, 'PERSON')]})\n"
     ],
     "output_type": "stream"
    }
   ],
   "source": [
    "spacy_test = InputSample.create_spacy_dataset(test_samples)\n",
    "spacy_test_json = InputSample.create_spacy_json(test_samples)\n",
    "print(spacy_test[14])"
   ]
  },
  {
   "cell_type": "markdown",
   "metadata": {},
   "source": [
    "Dump test set to pickle and json respectively"
   ]
  },
  {
   "cell_type": "code",
   "execution_count": 14,
   "metadata": {
    "pycharm": {
     "is_executing": false,
     "name": "#%%\n"
    }
   },
   "outputs": [],
   "source": [
    "import pickle\n",
    "with open(\"../../data/test.pickle\", 'wb') as handle:\n",
    "    pickle.dump(spacy_test,handle, protocol=pickle.HIGHEST_PROTOCOL)\n",
    "    \n",
    "with open(\"../../data/test.json\",\"w\") as f:\n",
    "    json.dump(spacy_test_json,f)\n",
    "       \n"
   ]
  },
  {
   "cell_type": "code",
   "execution_count": null,
   "outputs": [],
   "source": [
    "\n"
   ],
   "metadata": {
    "collapsed": false,
    "pycharm": {
     "name": "#%%\n"
    }
   }
  },
  {
   "cell_type": "code",
   "execution_count": null,
   "outputs": [],
   "source": [
    "\n"
   ],
   "metadata": {
    "collapsed": false,
    "pycharm": {
     "name": "#%%\n"
    }
   }
  }
 ],
 "metadata": {
  "kernelspec": {
   "display_name": "Python 3",
   "language": "python",
   "name": "python3"
  },
  "language_info": {
   "codemirror_mode": {
    "name": "ipython",
    "version": 3
   },
   "file_extension": ".py",
   "mimetype": "text/x-python",
   "name": "python",
   "nbconvert_exporter": "python",
   "pygments_lexer": "ipython3",
   "version": "3.7.4"
  },
  "pycharm": {
   "stem_cell": {
    "cell_type": "raw",
    "source": [],
    "metadata": {
     "collapsed": false
    }
   }
  }
 },
 "nbformat": 4,
 "nbformat_minor": 2
}