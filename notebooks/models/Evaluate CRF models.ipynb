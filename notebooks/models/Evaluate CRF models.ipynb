{
 "cells": [
  {
   "cell_type": "markdown",
   "metadata": {},
   "source": [
    "Evaluate CRF models for person names, orgs and locations using the Presidio Evaluator framework\n",
    "\n",
    "Data = `test_February_28_2020`"
   ]
  },
  {
   "cell_type": "code",
   "execution_count": 9,
   "metadata": {
    "pycharm": {
     "is_executing": false
    }
   },
   "outputs": [
    {
     "name": "stderr",
     "text": [
      "/Users/bpayne/anaconda3/envs/presidio/lib/python3.7/site-packages/ipykernel_launcher.py:10: FutureWarning: Passing a negative integer is deprecated in version 1.0 and will not be supported in future version. Instead, use None to not limit the column width.\n",
      "  # Remove the CWD from sys.path while we load stuff.\n"
     ],
     "output_type": "stream"
    }
   ],
   "source": [
    "from tqdm import tqdm_notebook as tqdm\n",
    "import logging\n",
    "from presidio_evaluator import InputSample\n",
    "from presidio_evaluator.data_generator import read_synth_dataset\n",
    "import spacy\n",
    "import pandas as pd\n",
    "import pickle\n",
    "\n",
    "pd.set_option('display.width', 10000)\n",
    "pd.set_option('display.max_colwidth', -1)\n",
    "\n",
    "\n",
    "%reload_ext autoreload\n",
    "%autoreload 2\n",
    "\n"
   ]
  },
  {
   "cell_type": "markdown",
   "metadata": {},
   "source": [
    "Select data for evaluation:"
   ]
  },
  {
   "cell_type": "code",
   "execution_count": 10,
   "metadata": {
    "pycharm": {
     "is_executing": false
    }
   },
   "outputs": [
    {
     "name": "stdout",
     "text": [
      "300\n"
     ],
     "output_type": "stream"
    }
   ],
   "source": [
    "synth_samples = read_synth_dataset(\"../../data/synth_dataset.json\")\n",
    "print(len(synth_samples))\n",
    "\n",
    "\n",
    "DATASET = synth_samples"
   ]
  },
  {
   "cell_type": "code",
   "execution_count": 11,
   "metadata": {
    "pycharm": {
     "is_executing": false
    }
   },
   "outputs": [],
   "source": [
    "from collections import Counter\n",
    "entity_counter = Counter()\n",
    "for sample in DATASET:\n",
    "    for tag in sample.tags:\n",
    "        entity_counter[tag]+=1"
   ]
  },
  {
   "cell_type": "code",
   "execution_count": 12,
   "metadata": {
    "pycharm": {
     "is_executing": false
    }
   },
   "outputs": [
    {
     "data": {
      "text/plain": "Counter({'O': 4721,\n         'B-PERSON': 102,\n         'L-PERSON': 102,\n         'U-PERSON': 72,\n         'U-CREDIT_CARD': 49,\n         'B-LOCATION': 47,\n         'I-LOCATION': 181,\n         'L-LOCATION': 47,\n         'B-ORGANIZATION': 43,\n         'L-ORGANIZATION': 43,\n         'I-ORGANIZATION': 28,\n         'U-LOCATION': 28,\n         'U-EMAIL': 11,\n         'U-BIRTHDAY': 4,\n         'B-TITLE': 2,\n         'L-TITLE': 2,\n         'U-TITLE': 2,\n         'B-PHONE_NUMBER': 9,\n         'L-PHONE_NUMBER': 9,\n         'I-PHONE_NUMBER': 18,\n         'U-ORGANIZATION': 5,\n         'U-IBAN': 3,\n         'U-NATIONALITY': 1,\n         'I-PERSON': 5})"
     },
     "metadata": {},
     "output_type": "execute_result",
     "execution_count": 12
    }
   ],
   "source": [
    "entity_counter"
   ]
  },
  {
   "cell_type": "code",
   "execution_count": 13,
   "metadata": {
    "pycharm": {
     "is_executing": false
    }
   },
   "outputs": [
    {
     "data": {
      "text/plain": "Full text: Kotoya Negishi listed his top 20 songs for Entertainment Weekly and had the balls to list this song at #15. (What did he put at #1 you ask? Answer:\"Tube Snake Boogie\" by Frank Strauser â€“ go figure)\nSpans: [Type: PERSON, value: Kotoya Negishi, start: 0, end: 14, Type: PERSON, value: Frank Strauser, start: 170, end: 184]\nTokens: [Kotoya, Negishi, listed, his, top, 20, songs, for, Entertainment, Weekly, and, had, the, balls, to, list, this, song, at, #, 15, ., (, What, did, he, put, at, #, 1, you, ask, ?, Answer:\"Tube, Snake, Boogie, \", by, Frank, Strauser, â€, “, go, figure, )]\nTags: ['B-PERSON', 'L-PERSON', 'O', 'O', 'O', 'O', 'O', 'O', 'O', 'O', 'O', 'O', 'O', 'O', 'O', 'O', 'O', 'O', 'O', 'O', 'O', 'O', 'O', 'O', 'O', 'O', 'O', 'O', 'O', 'O', 'O', 'O', 'O', 'O', 'O', 'O', 'O', 'O', 'B-PERSON', 'L-PERSON', 'O', 'O', 'O', 'O', 'O']"
     },
     "metadata": {},
     "output_type": "execute_result",
     "execution_count": 13
    }
   ],
   "source": [
    "DATASET[1]"
   ]
  },
  {
   "cell_type": "code",
   "execution_count": 14,
   "metadata": {
    "pycharm": {
     "is_executing": false
    }
   },
   "outputs": [
    {
     "data": {
      "text/plain": "79"
     },
     "metadata": {},
     "output_type": "execute_result",
     "execution_count": 14
    }
   ],
   "source": [
    "#max length sentence\n",
    "max([len(sample.tokens) for sample in DATASET])\n"
   ]
  },
  {
   "cell_type": "markdown",
   "metadata": {},
   "source": [
    "Select models for evaluation:"
   ]
  },
  {
   "cell_type": "code",
   "execution_count": 15,
   "metadata": {
    "pycharm": {
     "is_executing": false
    }
   },
   "outputs": [],
   "source": [
    "crf_vanilla = \"../../data/models/crf.pickle\"\n",
    "    \n",
    "models = [crf_vanilla]"
   ]
  },
  {
   "cell_type": "markdown",
   "metadata": {},
   "source": [
    "Run evaluation on all models:"
   ]
  },
  {
   "cell_type": "code",
   "execution_count": 16,
   "metadata": {
    "pycharm": {
     "is_executing": false
    }
   },
   "outputs": [
    {
     "name": "stdout",
     "text": [
      "-----------------------------------\n",
      "Evaluating model ../../data/models/crf.pickle\n",
      "Confusion matrix:\n",
      "Counter({('O', 'O'): 4792, ('GPE', 'GPE'): 299, ('PERSON', 'PERSON'): 251, ('ORG', 'ORG'): 80, ('ORG', 'O'): 24, ('O', 'ORG'): 18, ('O', 'PERSON'): 14, ('PERSON', 'GPE'): 12, ('ORG', 'PERSON'): 10, ('PERSON', 'ORG'): 10, ('PERSON', 'O'): 8, ('O', 'GPE'): 6, ('ORG', 'GPE'): 5, ('GPE', 'O'): 3, ('GPE', 'PERSON'): 2})\n",
      "Precision and recall\n",
      "                        Entity                     Precision                        Recall\n",
      "                           GPE                        98.36%                        92.86%\n",
      "                        PERSON                        89.32%                        90.61%\n",
      "                           ORG                        67.23%                        74.07%\n",
      "                           PII                        95.03%                        94.63%\n",
      "PII F measure: 0.9482636428065202\n"
     ],
     "output_type": "stream"
    },
    {
     "name": "stderr",
     "text": [
      "Evaluating <class 'presidio_evaluator.crf_evaluator.CRFEvaluator'>: 100%|██████████| 300/300 [00:00<00:00, 1556.27it/s]\n"
     ],
     "output_type": "stream"
    }
   ],
   "source": [
    "from presidio_evaluator.crf_evaluator import CRFEvaluator\n",
    "\n",
    "for model in models:\n",
    "    print(\"-----------------------------------\")\n",
    "    print(\"Evaluating model {}\".format(model))\n",
    "    crf_evaluator = CRFEvaluator(model_pickle_path=model)\n",
    "    evaluation_results = crf_evaluator.evaluate_all(DATASET)\n",
    "    scores = crf_evaluator.calculate_score(evaluation_results)\n",
    "    \n",
    "    print(\"Confusion matrix:\")\n",
    "    print(scores.results)\n",
    "\n",
    "    print(\"Precision and recall\")\n",
    "    scores.print()"
   ]
  },
  {
   "cell_type": "markdown",
   "metadata": {},
   "source": [
    "#### Custom evaluation of the model"
   ]
  },
  {
   "cell_type": "code",
   "execution_count": 17,
   "metadata": {
    "pycharm": {
     "is_executing": false
    }
   },
   "outputs": [],
   "source": [
    "# Try out the model\n",
    "def sent_to_features(model_path,sent):\n",
    "    \"\"\"\n",
    "    Translates a sentence into a prediction using a saved CRF model\n",
    "    \"\"\"\n",
    "    \n",
    "    with open(model_path, 'rb') as f:\n",
    "        model = pickle.load(f)\n",
    "    \n",
    "    tokenizer = spacy.blank('en')\n",
    "    tokens = tokenizer(sent)\n",
    "    tags = ['O' for token in tokens] # Placeholder: Not used but required. \n",
    "    metadata = {'Template#':1,'Gender':'1','Country':'2'} #Placeholder: Not used but required\n",
    "    input_sample = InputSample(full_text=sent,masked=\"\",spans=None,tokens=tokens,tags=tags,metadata=metadata,create_tags_from_span=False,)\n",
    "\n",
    "    return CRFEvaluator.crf_predict(input_sample, model)"
   ]
  },
  {
   "cell_type": "code",
   "execution_count": 18,
   "metadata": {
    "pycharm": {
     "is_executing": false
    }
   },
   "outputs": [
    {
     "data": {
      "text/plain": "['O', 'O', 'O']"
     },
     "metadata": {},
     "output_type": "execute_result",
     "execution_count": 18
    }
   ],
   "source": [
    "SENTENCE = \"Michael is American\"\n",
    "\n",
    "sent_to_features(model_path=crf_vanilla, sent=SENTENCE)"
   ]
  },
  {
   "cell_type": "markdown",
   "metadata": {},
   "source": [
    "#### False positives"
   ]
  },
  {
   "cell_type": "markdown",
   "metadata": {},
   "source": [
    "1. Most false positive tokens:"
   ]
  },
  {
   "cell_type": "code",
   "execution_count": 19,
   "metadata": {
    "pycharm": {
     "is_executing": false
    }
   },
   "outputs": [
    {
     "name": "stdout",
     "text": [
      "Most common false positive tokens:\n",
      "[('Entertainment', 6), ('Weekly', 6), ('Answer:\"Tube', 6), ('Snake', 6), ('Boogie', 6), (',', 3), ('Devil', 2), ('IL270126100000000544211', 2), ('and', 1)]\n",
      "Example sentence with each FP token:\n",
      "Kotoya Negishi listed his top 20 songs for Entertainment Weekly and had the balls to list this song at #15. (What did he put at #1 you ask? Answer:\"Tube Snake Boogie\" by Frank Strauser â€“ go figure)\n",
      "Kotoya Negishi listed his top 20 songs for Entertainment Weekly and had the balls to list this song at #15. (What did he put at #1 you ask? Answer:\"Tube Snake Boogie\" by Frank Strauser â€“ go figure)\n",
      "Kotoya Negishi listed his top 20 songs for Entertainment Weekly and had the balls to list this song at #15. (What did he put at #1 you ask? Answer:\"Tube Snake Boogie\" by Frank Strauser â€“ go figure)\n",
      "Kotoya Negishi listed his top 20 songs for Entertainment Weekly and had the balls to list this song at #15. (What did he put at #1 you ask? Answer:\"Tube Snake Boogie\" by Frank Strauser â€“ go figure)\n",
      "Kotoya Negishi listed his top 20 songs for Entertainment Weekly and had the balls to list this song at #15. (What did he put at #1 you ask? Answer:\"Tube Snake Boogie\" by Frank Strauser â€“ go figure)\n",
      "Celebrating its 10th year in Villa de Ves, Trak Auto is a 501(c)3 that invites songwriters from around the world to Texas to share the universal language of music in collaborations designed to bridge cultures, build friendships and cultivate peace.\n",
      "My religion does not allow speaking to bots, they are evil and hacked by the Devil\n",
      "My IBAN is IL270126100000000544211\n",
      "the jolly farmer is the brainchild of our 3 founders: george schutt, daniela jager and zahra mattsson.  the idea was born (on the beach) while they were constructing a website to be the basis of another start-up idea.\n"
     ],
     "output_type": "stream"
    }
   ],
   "source": [
    "errors = scores.model_errors\n",
    "\n",
    "from presidio_evaluator import ModelEvaluator\n",
    "ModelEvaluator.most_common_fp_tokens(errors)#[model_error for model_error in errors if model_error.error_type =='FP']\n"
   ]
  },
  {
   "cell_type": "markdown",
   "metadata": {},
   "source": [
    "2. review false positives for entity 'PERSON'"
   ]
  },
  {
   "cell_type": "code",
   "execution_count": 20,
   "metadata": {
    "pycharm": {
     "is_executing": false
    }
   },
   "outputs": [
    {
     "data": {
      "text/plain": "                                                                                                                                                                                                               full_text                    token prediction\n0   Kotoya Negishi listed his top 20 songs for Entertainment Weekly and had the balls to list this song at #15. (What did he put at #1 you ask? Answer:\"Tube Snake Boogie\" by Frank Strauser â€“ go figure)               Entertainment            PERSON   \n1   Kotoya Negishi listed his top 20 songs for Entertainment Weekly and had the balls to list this song at #15. (What did he put at #1 you ask? Answer:\"Tube Snake Boogie\" by Frank Strauser â€“ go figure)               Weekly                   PERSON   \n2   Minik Jeremiassen listed his top 20 songs for Entertainment Weekly and had the balls to list this song at #15. (What did he put at #1 you ask? Answer:\"Tube Snake Boogie\" by Marisa Bisliev â€“ go figure)            Entertainment            PERSON   \n3   Minik Jeremiassen listed his top 20 songs for Entertainment Weekly and had the balls to list this song at #15. (What did he put at #1 you ask? Answer:\"Tube Snake Boogie\" by Marisa Bisliev â€“ go figure)            Weekly                   PERSON   \n4   Nusa Weress listed his top 20 songs for Entertainment Weekly and had the balls to list this song at #15. (What did he put at #1 you ask? Answer:\"Tube Snake Boogie\" by Klimek Kozłowski â€“ go figure)                Entertainment            PERSON   \n5   Nusa Weress listed his top 20 songs for Entertainment Weekly and had the balls to list this song at #15. (What did he put at #1 you ask? Answer:\"Tube Snake Boogie\" by Klimek Kozłowski â€“ go figure)                Weekly                   PERSON   \n6   Emilie Johansen listed his top 20 songs for Entertainment Weekly and had the balls to list this song at #15. (What did he put at #1 you ask? Answer:\"Tube Snake Boogie\" by Polona Ranković â€“ go figure)             Entertainment            PERSON   \n7   Emilie Johansen listed his top 20 songs for Entertainment Weekly and had the balls to list this song at #15. (What did he put at #1 you ask? Answer:\"Tube Snake Boogie\" by Polona Ranković â€“ go figure)             Weekly                   PERSON   \n8   My IBAN is IL270126100000000544211                                                                                                                                                                                    IL270126100000000544211  PERSON   \n9   My IBAN is IL270126100000000544211                                                                                                                                                                                    IL270126100000000544211  PERSON   \n10  Szymon Walczak listed his top 20 songs for Entertainment Weekly and had the balls to list this song at #15. (What did he put at #1 you ask? Answer:\"Tube Snake Boogie\" by Fernanda Ricci â€“ go figure)               Entertainment            PERSON   \n11  Szymon Walczak listed his top 20 songs for Entertainment Weekly and had the balls to list this song at #15. (What did he put at #1 you ask? Answer:\"Tube Snake Boogie\" by Fernanda Ricci â€“ go figure)               Weekly                   PERSON   \n12  Susanne Fleischer listed his top 20 songs for Entertainment Weekly and had the balls to list this song at #15. (What did he put at #1 you ask? Answer:\"Tube Snake Boogie\" by Louelle van den Brandhof â€“ go figure)  Entertainment            PERSON   \n13  Susanne Fleischer listed his top 20 songs for Entertainment Weekly and had the balls to list this song at #15. (What did he put at #1 you ask? Answer:\"Tube Snake Boogie\" by Louelle van den Brandhof â€“ go figure)  Weekly                   PERSON   ",
      "text/html": "<div>\n<style scoped>\n    .dataframe tbody tr th:only-of-type {\n        vertical-align: middle;\n    }\n\n    .dataframe tbody tr th {\n        vertical-align: top;\n    }\n\n    .dataframe thead th {\n        text-align: right;\n    }\n</style>\n<table border=\"1\" class=\"dataframe\">\n  <thead>\n    <tr style=\"text-align: right;\">\n      <th></th>\n      <th>full_text</th>\n      <th>token</th>\n      <th>prediction</th>\n    </tr>\n  </thead>\n  <tbody>\n    <tr>\n      <th>0</th>\n      <td>Kotoya Negishi listed his top 20 songs for Entertainment Weekly and had the balls to list this song at #15. (What did he put at #1 you ask? Answer:\"Tube Snake Boogie\" by Frank Strauser â€“ go figure)</td>\n      <td>Entertainment</td>\n      <td>PERSON</td>\n    </tr>\n    <tr>\n      <th>1</th>\n      <td>Kotoya Negishi listed his top 20 songs for Entertainment Weekly and had the balls to list this song at #15. (What did he put at #1 you ask? Answer:\"Tube Snake Boogie\" by Frank Strauser â€“ go figure)</td>\n      <td>Weekly</td>\n      <td>PERSON</td>\n    </tr>\n    <tr>\n      <th>2</th>\n      <td>Minik Jeremiassen listed his top 20 songs for Entertainment Weekly and had the balls to list this song at #15. (What did he put at #1 you ask? Answer:\"Tube Snake Boogie\" by Marisa Bisliev â€“ go figure)</td>\n      <td>Entertainment</td>\n      <td>PERSON</td>\n    </tr>\n    <tr>\n      <th>3</th>\n      <td>Minik Jeremiassen listed his top 20 songs for Entertainment Weekly and had the balls to list this song at #15. (What did he put at #1 you ask? Answer:\"Tube Snake Boogie\" by Marisa Bisliev â€“ go figure)</td>\n      <td>Weekly</td>\n      <td>PERSON</td>\n    </tr>\n    <tr>\n      <th>4</th>\n      <td>Nusa Weress listed his top 20 songs for Entertainment Weekly and had the balls to list this song at #15. (What did he put at #1 you ask? Answer:\"Tube Snake Boogie\" by Klimek Kozłowski â€“ go figure)</td>\n      <td>Entertainment</td>\n      <td>PERSON</td>\n    </tr>\n    <tr>\n      <th>5</th>\n      <td>Nusa Weress listed his top 20 songs for Entertainment Weekly and had the balls to list this song at #15. (What did he put at #1 you ask? Answer:\"Tube Snake Boogie\" by Klimek Kozłowski â€“ go figure)</td>\n      <td>Weekly</td>\n      <td>PERSON</td>\n    </tr>\n    <tr>\n      <th>6</th>\n      <td>Emilie Johansen listed his top 20 songs for Entertainment Weekly and had the balls to list this song at #15. (What did he put at #1 you ask? Answer:\"Tube Snake Boogie\" by Polona Ranković â€“ go figure)</td>\n      <td>Entertainment</td>\n      <td>PERSON</td>\n    </tr>\n    <tr>\n      <th>7</th>\n      <td>Emilie Johansen listed his top 20 songs for Entertainment Weekly and had the balls to list this song at #15. (What did he put at #1 you ask? Answer:\"Tube Snake Boogie\" by Polona Ranković â€“ go figure)</td>\n      <td>Weekly</td>\n      <td>PERSON</td>\n    </tr>\n    <tr>\n      <th>8</th>\n      <td>My IBAN is IL270126100000000544211</td>\n      <td>IL270126100000000544211</td>\n      <td>PERSON</td>\n    </tr>\n    <tr>\n      <th>9</th>\n      <td>My IBAN is IL270126100000000544211</td>\n      <td>IL270126100000000544211</td>\n      <td>PERSON</td>\n    </tr>\n    <tr>\n      <th>10</th>\n      <td>Szymon Walczak listed his top 20 songs for Entertainment Weekly and had the balls to list this song at #15. (What did he put at #1 you ask? Answer:\"Tube Snake Boogie\" by Fernanda Ricci â€“ go figure)</td>\n      <td>Entertainment</td>\n      <td>PERSON</td>\n    </tr>\n    <tr>\n      <th>11</th>\n      <td>Szymon Walczak listed his top 20 songs for Entertainment Weekly and had the balls to list this song at #15. (What did he put at #1 you ask? Answer:\"Tube Snake Boogie\" by Fernanda Ricci â€“ go figure)</td>\n      <td>Weekly</td>\n      <td>PERSON</td>\n    </tr>\n    <tr>\n      <th>12</th>\n      <td>Susanne Fleischer listed his top 20 songs for Entertainment Weekly and had the balls to list this song at #15. (What did he put at #1 you ask? Answer:\"Tube Snake Boogie\" by Louelle van den Brandhof â€“ go figure)</td>\n      <td>Entertainment</td>\n      <td>PERSON</td>\n    </tr>\n    <tr>\n      <th>13</th>\n      <td>Susanne Fleischer listed his top 20 songs for Entertainment Weekly and had the balls to list this song at #15. (What did he put at #1 you ask? Answer:\"Tube Snake Boogie\" by Louelle van den Brandhof â€“ go figure)</td>\n      <td>Weekly</td>\n      <td>PERSON</td>\n    </tr>\n  </tbody>\n</table>\n</div>"
     },
     "metadata": {},
     "output_type": "execute_result",
     "execution_count": 20
    }
   ],
   "source": [
    "fps_df = ModelEvaluator.get_fps_dataframe(errors,entity='PERSON')\n",
    "fps_df[['full_text','token','prediction']]"
   ]
  },
  {
   "cell_type": "markdown",
   "metadata": {},
   "source": [
    "#### False negative examples"
   ]
  },
  {
   "cell_type": "code",
   "execution_count": 21,
   "metadata": {
    "pycharm": {
     "is_executing": false
    }
   },
   "outputs": [
    {
     "name": "stdout",
     "text": [
      "[('Souza', 1), ('Søren', 1), ('Victoria', 1), ('Charlotte', 1), ('Park', 1), ('tryggvadóttir', 1), ('erick', 1), ('searlait', 1), ('Marisa', 1), ('Martin', 1), ('Leidy', 1), ('Muris', 1), ('Aston', 1), ('Lind', 1), ('Houžvičková', 1), ('george', 1), ('schutt', 1), ('daniela', 1), ('jager', 1), ('zahra', 1), ('mattsson', 1), ('Raisová', 1), ('Kristian', 1), ('Enrico', 1), ('Tuomo', 1), ('Katie', 1), ('Miles', 1), ('Lewis', 1), ('Abbott', 1), ('den', 1)]\n",
      "Token: Souza, Annotation: PERSON, Full text: Unlike the Souza novel, it's not about necrophilia. What it is about, I suppose is anyone's guess. A brilliant piece of baroque pop.\n",
      "Token: Søren, Annotation: PERSON, Full text: I'm so jealous! said Donát to Søren\n",
      "Token: Victoria, Annotation: PERSON, Full text: I'm so jealous! said Bárður to Victoria\n",
      "Token: Charlotte, Annotation: PERSON, Full text: Dun Rite Lawn Care is the brainchild of our 3 founders: Charlotte Park, Oline Mikaelsen and Brodie Walker.  The idea was born (on the beach) while they were constructing a website to be the basis of another start-up idea.\n",
      "Token: Park, Annotation: PERSON, Full text: Dun Rite Lawn Care is the brainchild of our 3 founders: Charlotte Park, Oline Mikaelsen and Brodie Walker.  The idea was born (on the beach) while they were constructing a website to be the basis of another start-up idea.\n",
      "Token: tryggvadóttir, Annotation: PERSON, Full text: tryggvadóttir spent a year at rogers peet as the assistant to margrét tryggvadóttir, and the following year at big wheel in begonte, which later became movie gallery in 1965.\n",
      "Token: erick, Annotation: PERSON, Full text: erick shouted at searlait: \"what are you doing here?\"\n",
      "Token: searlait, Annotation: PERSON, Full text: erick shouted at searlait: \"what are you doing here?\"\n",
      "Token: Marisa, Annotation: PERSON, Full text: Marisa shouted at Martin: \"What are you doing here?\"\n",
      "Token: Martin, Annotation: PERSON, Full text: Marisa shouted at Martin: \"What are you doing here?\"\n",
      "Token: Leidy, Annotation: PERSON, Full text: On Cue is the brainchild of our 3 founders: Leidy Muris, Aston Lind and Wacława Sobczak.  The idea was born (on the beach) while they were constructing a website to be the basis of another start-up idea.\n",
      "Token: Muris, Annotation: PERSON, Full text: On Cue is the brainchild of our 3 founders: Leidy Muris, Aston Lind and Wacława Sobczak.  The idea was born (on the beach) while they were constructing a website to be the basis of another start-up idea.\n",
      "Token: Aston, Annotation: PERSON, Full text: On Cue is the brainchild of our 3 founders: Leidy Muris, Aston Lind and Wacława Sobczak.  The idea was born (on the beach) while they were constructing a website to be the basis of another start-up idea.\n",
      "Token: Lind, Annotation: PERSON, Full text: On Cue is the brainchild of our 3 founders: Leidy Muris, Aston Lind and Wacława Sobczak.  The idea was born (on the beach) while they were constructing a website to be the basis of another start-up idea.\n",
      "Token: Houžvičková, Annotation: PERSON, Full text: Houžvičková spent a year at Eli Moore Inc as the assistant to Květoslava Houžvičková, and the following year at The White Rabbit in Halfway House, which later became Integra Wealth Planners in 1965.\n",
      "Token: george, Annotation: PERSON, Full text: the jolly farmer is the brainchild of our 3 founders: george schutt, daniela jager and zahra mattsson.  the idea was born (on the beach) while they were constructing a website to be the basis of another start-up idea.\n",
      "Token: schutt, Annotation: PERSON, Full text: the jolly farmer is the brainchild of our 3 founders: george schutt, daniela jager and zahra mattsson.  the idea was born (on the beach) while they were constructing a website to be the basis of another start-up idea.\n",
      "Token: daniela, Annotation: PERSON, Full text: the jolly farmer is the brainchild of our 3 founders: george schutt, daniela jager and zahra mattsson.  the idea was born (on the beach) while they were constructing a website to be the basis of another start-up idea.\n",
      "Token: jager, Annotation: PERSON, Full text: the jolly farmer is the brainchild of our 3 founders: george schutt, daniela jager and zahra mattsson.  the idea was born (on the beach) while they were constructing a website to be the basis of another start-up idea.\n",
      "Token: zahra, Annotation: PERSON, Full text: the jolly farmer is the brainchild of our 3 founders: george schutt, daniela jager and zahra mattsson.  the idea was born (on the beach) while they were constructing a website to be the basis of another start-up idea.\n",
      "Token: mattsson, Annotation: PERSON, Full text: the jolly farmer is the brainchild of our 3 founders: george schutt, daniela jager and zahra mattsson.  the idea was born (on the beach) while they were constructing a website to be the basis of another start-up idea.\n",
      "Token: Raisová, Annotation: PERSON, Full text: Unlike the Raisová novel, it's not about necrophilia. What it is about, I suppose is anyone's guess. A brilliant piece of baroque pop.\n",
      "Token: Kristian, Annotation: PERSON, Full text: Kristian shouted at Enrico: \"What are you doing here?\"\n",
      "Token: Enrico, Annotation: PERSON, Full text: Kristian shouted at Enrico: \"What are you doing here?\"\n",
      "Token: Tuomo, Annotation: PERSON, Full text: Lucas shouted at Tuomo: \"What are you doing here?\"\n",
      "Token: Katie, Annotation: PERSON, Full text: Dee'S Drive-In is the brainchild of our 3 founders: Katie Miles, Lewis Abbott and Ivan Petřík.  The idea was born (on the beach) while they were constructing a website to be the basis of another start-up idea.\n",
      "Token: Miles, Annotation: PERSON, Full text: Dee'S Drive-In is the brainchild of our 3 founders: Katie Miles, Lewis Abbott and Ivan Petřík.  The idea was born (on the beach) while they were constructing a website to be the basis of another start-up idea.\n",
      "Token: Lewis, Annotation: PERSON, Full text: Dee'S Drive-In is the brainchild of our 3 founders: Katie Miles, Lewis Abbott and Ivan Petřík.  The idea was born (on the beach) while they were constructing a website to be the basis of another start-up idea.\n",
      "Token: Abbott, Annotation: PERSON, Full text: Dee'S Drive-In is the brainchild of our 3 founders: Katie Miles, Lewis Abbott and Ivan Petřík.  The idea was born (on the beach) while they were constructing a website to be the basis of another start-up idea.\n",
      "Token: den, Annotation: PERSON, Full text: Susanne Fleischer listed his top 20 songs for Entertainment Weekly and had the balls to list this song at #15. (What did he put at #1 you ask? Answer:\"Tube Snake Boogie\" by Louelle van den Brandhof â€“ go figure)\n"
     ],
     "output_type": "stream"
    }
   ],
   "source": [
    "ModelEvaluator.most_common_fn_tokens(errors,n=50, entity='PERSON')"
   ]
  },
  {
   "cell_type": "markdown",
   "metadata": {},
   "source": [
    "More FN analysis"
   ]
  },
  {
   "cell_type": "code",
   "execution_count": 22,
   "metadata": {
    "pycharm": {
     "is_executing": false
    }
   },
   "outputs": [],
   "source": [
    "fns_df = ModelEvaluator.get_fns_dataframe(errors,entity='PERSON')"
   ]
  },
  {
   "cell_type": "code",
   "execution_count": 23,
   "metadata": {
    "pycharm": {
     "is_executing": false
    }
   },
   "outputs": [
    {
     "data": {
      "text/plain": "                                                                                                                                                                                                                        full_text          token annotation prediction\n0   Unlike the Souza novel, it's not about necrophilia. What it is about, I suppose is anyone's guess. A brilliant piece of baroque pop.                                                                                           Souza          PERSON     O        \n1   I'm so jealous! said Donát to Søren                                                                                                                                                                                            Søren          PERSON     GPE      \n2   I'm so jealous! said Bárður to Victoria                                                                                                                                                                                        Victoria       PERSON     GPE      \n3   Dun Rite Lawn Care is the brainchild of our 3 founders: Charlotte Park, Oline Mikaelsen and Brodie Walker.  The idea was born (on the beach) while they were constructing a website to be the basis of another start-up idea.  Charlotte      PERSON     ORG      \n4   Dun Rite Lawn Care is the brainchild of our 3 founders: Charlotte Park, Oline Mikaelsen and Brodie Walker.  The idea was born (on the beach) while they were constructing a website to be the basis of another start-up idea.  Park           PERSON     ORG      \n5   tryggvadóttir spent a year at rogers peet as the assistant to margrét tryggvadóttir, and the following year at big wheel in begonte, which later became movie gallery in 1965.                                                 tryggvadóttir  PERSON     O        \n6   erick shouted at searlait: \"what are you doing here?\"                                                                                                                                                                          erick          PERSON     O        \n7   erick shouted at searlait: \"what are you doing here?\"                                                                                                                                                                          searlait       PERSON     O        \n8   Marisa shouted at Martin: \"What are you doing here?\"                                                                                                                                                                           Marisa         PERSON     O        \n9   Marisa shouted at Martin: \"What are you doing here?\"                                                                                                                                                                           Martin         PERSON     GPE      \n10  On Cue is the brainchild of our 3 founders: Leidy Muris, Aston Lind and Wacława Sobczak.  The idea was born (on the beach) while they were constructing a website to be the basis of another start-up idea.                    Leidy          PERSON     ORG      \n11  On Cue is the brainchild of our 3 founders: Leidy Muris, Aston Lind and Wacława Sobczak.  The idea was born (on the beach) while they were constructing a website to be the basis of another start-up idea.                    Muris          PERSON     ORG      \n12  On Cue is the brainchild of our 3 founders: Leidy Muris, Aston Lind and Wacława Sobczak.  The idea was born (on the beach) while they were constructing a website to be the basis of another start-up idea.                    Aston          PERSON     ORG      \n13  On Cue is the brainchild of our 3 founders: Leidy Muris, Aston Lind and Wacława Sobczak.  The idea was born (on the beach) while they were constructing a website to be the basis of another start-up idea.                    Lind           PERSON     ORG      \n14  Houžvičková spent a year at Eli Moore Inc as the assistant to Květoslava Houžvičková, and the following year at The White Rabbit in Halfway House, which later became Integra Wealth Planners in 1965.                         Houžvičková    PERSON     O        \n15  the jolly farmer is the brainchild of our 3 founders: george schutt, daniela jager and zahra mattsson.  the idea was born (on the beach) while they were constructing a website to be the basis of another start-up idea.      george         PERSON     GPE      \n16  the jolly farmer is the brainchild of our 3 founders: george schutt, daniela jager and zahra mattsson.  the idea was born (on the beach) while they were constructing a website to be the basis of another start-up idea.      schutt         PERSON     GPE      \n17  the jolly farmer is the brainchild of our 3 founders: george schutt, daniela jager and zahra mattsson.  the idea was born (on the beach) while they were constructing a website to be the basis of another start-up idea.      daniela        PERSON     GPE      \n18  the jolly farmer is the brainchild of our 3 founders: george schutt, daniela jager and zahra mattsson.  the idea was born (on the beach) while they were constructing a website to be the basis of another start-up idea.      jager          PERSON     GPE      \n19  the jolly farmer is the brainchild of our 3 founders: george schutt, daniela jager and zahra mattsson.  the idea was born (on the beach) while they were constructing a website to be the basis of another start-up idea.      zahra          PERSON     GPE      \n20  the jolly farmer is the brainchild of our 3 founders: george schutt, daniela jager and zahra mattsson.  the idea was born (on the beach) while they were constructing a website to be the basis of another start-up idea.      mattsson       PERSON     GPE      \n21  Unlike the Raisová novel, it's not about necrophilia. What it is about, I suppose is anyone's guess. A brilliant piece of baroque pop.                                                                                         Raisová        PERSON     O        \n22  Kristian shouted at Enrico: \"What are you doing here?\"                                                                                                                                                                         Kristian       PERSON     GPE      \n23  Kristian shouted at Enrico: \"What are you doing here?\"                                                                                                                                                                         Enrico         PERSON     GPE      \n24  Lucas shouted at Tuomo: \"What are you doing here?\"                                                                                                                                                                             Tuomo          PERSON     GPE      \n25  Dee'S Drive-In is the brainchild of our 3 founders: Katie Miles, Lewis Abbott and Ivan Petřík.  The idea was born (on the beach) while they were constructing a website to be the basis of another start-up idea.              Katie          PERSON     ORG      \n26  Dee'S Drive-In is the brainchild of our 3 founders: Katie Miles, Lewis Abbott and Ivan Petřík.  The idea was born (on the beach) while they were constructing a website to be the basis of another start-up idea.              Miles          PERSON     ORG      \n27  Dee'S Drive-In is the brainchild of our 3 founders: Katie Miles, Lewis Abbott and Ivan Petřík.  The idea was born (on the beach) while they were constructing a website to be the basis of another start-up idea.              Lewis          PERSON     ORG      \n28  Dee'S Drive-In is the brainchild of our 3 founders: Katie Miles, Lewis Abbott and Ivan Petřík.  The idea was born (on the beach) while they were constructing a website to be the basis of another start-up idea.              Abbott         PERSON     ORG      \n29  Susanne Fleischer listed his top 20 songs for Entertainment Weekly and had the balls to list this song at #15. (What did he put at #1 you ask? Answer:\"Tube Snake Boogie\" by Louelle van den Brandhof â€“ go figure)           den            PERSON     O        ",
      "text/html": "<div>\n<style scoped>\n    .dataframe tbody tr th:only-of-type {\n        vertical-align: middle;\n    }\n\n    .dataframe tbody tr th {\n        vertical-align: top;\n    }\n\n    .dataframe thead th {\n        text-align: right;\n    }\n</style>\n<table border=\"1\" class=\"dataframe\">\n  <thead>\n    <tr style=\"text-align: right;\">\n      <th></th>\n      <th>full_text</th>\n      <th>token</th>\n      <th>annotation</th>\n      <th>prediction</th>\n    </tr>\n  </thead>\n  <tbody>\n    <tr>\n      <th>0</th>\n      <td>Unlike the Souza novel, it's not about necrophilia. What it is about, I suppose is anyone's guess. A brilliant piece of baroque pop.</td>\n      <td>Souza</td>\n      <td>PERSON</td>\n      <td>O</td>\n    </tr>\n    <tr>\n      <th>1</th>\n      <td>I'm so jealous! said Donát to Søren</td>\n      <td>Søren</td>\n      <td>PERSON</td>\n      <td>GPE</td>\n    </tr>\n    <tr>\n      <th>2</th>\n      <td>I'm so jealous! said Bárður to Victoria</td>\n      <td>Victoria</td>\n      <td>PERSON</td>\n      <td>GPE</td>\n    </tr>\n    <tr>\n      <th>3</th>\n      <td>Dun Rite Lawn Care is the brainchild of our 3 founders: Charlotte Park, Oline Mikaelsen and Brodie Walker.  The idea was born (on the beach) while they were constructing a website to be the basis of another start-up idea.</td>\n      <td>Charlotte</td>\n      <td>PERSON</td>\n      <td>ORG</td>\n    </tr>\n    <tr>\n      <th>4</th>\n      <td>Dun Rite Lawn Care is the brainchild of our 3 founders: Charlotte Park, Oline Mikaelsen and Brodie Walker.  The idea was born (on the beach) while they were constructing a website to be the basis of another start-up idea.</td>\n      <td>Park</td>\n      <td>PERSON</td>\n      <td>ORG</td>\n    </tr>\n    <tr>\n      <th>5</th>\n      <td>tryggvadóttir spent a year at rogers peet as the assistant to margrét tryggvadóttir, and the following year at big wheel in begonte, which later became movie gallery in 1965.</td>\n      <td>tryggvadóttir</td>\n      <td>PERSON</td>\n      <td>O</td>\n    </tr>\n    <tr>\n      <th>6</th>\n      <td>erick shouted at searlait: \"what are you doing here?\"</td>\n      <td>erick</td>\n      <td>PERSON</td>\n      <td>O</td>\n    </tr>\n    <tr>\n      <th>7</th>\n      <td>erick shouted at searlait: \"what are you doing here?\"</td>\n      <td>searlait</td>\n      <td>PERSON</td>\n      <td>O</td>\n    </tr>\n    <tr>\n      <th>8</th>\n      <td>Marisa shouted at Martin: \"What are you doing here?\"</td>\n      <td>Marisa</td>\n      <td>PERSON</td>\n      <td>O</td>\n    </tr>\n    <tr>\n      <th>9</th>\n      <td>Marisa shouted at Martin: \"What are you doing here?\"</td>\n      <td>Martin</td>\n      <td>PERSON</td>\n      <td>GPE</td>\n    </tr>\n    <tr>\n      <th>10</th>\n      <td>On Cue is the brainchild of our 3 founders: Leidy Muris, Aston Lind and Wacława Sobczak.  The idea was born (on the beach) while they were constructing a website to be the basis of another start-up idea.</td>\n      <td>Leidy</td>\n      <td>PERSON</td>\n      <td>ORG</td>\n    </tr>\n    <tr>\n      <th>11</th>\n      <td>On Cue is the brainchild of our 3 founders: Leidy Muris, Aston Lind and Wacława Sobczak.  The idea was born (on the beach) while they were constructing a website to be the basis of another start-up idea.</td>\n      <td>Muris</td>\n      <td>PERSON</td>\n      <td>ORG</td>\n    </tr>\n    <tr>\n      <th>12</th>\n      <td>On Cue is the brainchild of our 3 founders: Leidy Muris, Aston Lind and Wacława Sobczak.  The idea was born (on the beach) while they were constructing a website to be the basis of another start-up idea.</td>\n      <td>Aston</td>\n      <td>PERSON</td>\n      <td>ORG</td>\n    </tr>\n    <tr>\n      <th>13</th>\n      <td>On Cue is the brainchild of our 3 founders: Leidy Muris, Aston Lind and Wacława Sobczak.  The idea was born (on the beach) while they were constructing a website to be the basis of another start-up idea.</td>\n      <td>Lind</td>\n      <td>PERSON</td>\n      <td>ORG</td>\n    </tr>\n    <tr>\n      <th>14</th>\n      <td>Houžvičková spent a year at Eli Moore Inc as the assistant to Květoslava Houžvičková, and the following year at The White Rabbit in Halfway House, which later became Integra Wealth Planners in 1965.</td>\n      <td>Houžvičková</td>\n      <td>PERSON</td>\n      <td>O</td>\n    </tr>\n    <tr>\n      <th>15</th>\n      <td>the jolly farmer is the brainchild of our 3 founders: george schutt, daniela jager and zahra mattsson.  the idea was born (on the beach) while they were constructing a website to be the basis of another start-up idea.</td>\n      <td>george</td>\n      <td>PERSON</td>\n      <td>GPE</td>\n    </tr>\n    <tr>\n      <th>16</th>\n      <td>the jolly farmer is the brainchild of our 3 founders: george schutt, daniela jager and zahra mattsson.  the idea was born (on the beach) while they were constructing a website to be the basis of another start-up idea.</td>\n      <td>schutt</td>\n      <td>PERSON</td>\n      <td>GPE</td>\n    </tr>\n    <tr>\n      <th>17</th>\n      <td>the jolly farmer is the brainchild of our 3 founders: george schutt, daniela jager and zahra mattsson.  the idea was born (on the beach) while they were constructing a website to be the basis of another start-up idea.</td>\n      <td>daniela</td>\n      <td>PERSON</td>\n      <td>GPE</td>\n    </tr>\n    <tr>\n      <th>18</th>\n      <td>the jolly farmer is the brainchild of our 3 founders: george schutt, daniela jager and zahra mattsson.  the idea was born (on the beach) while they were constructing a website to be the basis of another start-up idea.</td>\n      <td>jager</td>\n      <td>PERSON</td>\n      <td>GPE</td>\n    </tr>\n    <tr>\n      <th>19</th>\n      <td>the jolly farmer is the brainchild of our 3 founders: george schutt, daniela jager and zahra mattsson.  the idea was born (on the beach) while they were constructing a website to be the basis of another start-up idea.</td>\n      <td>zahra</td>\n      <td>PERSON</td>\n      <td>GPE</td>\n    </tr>\n    <tr>\n      <th>20</th>\n      <td>the jolly farmer is the brainchild of our 3 founders: george schutt, daniela jager and zahra mattsson.  the idea was born (on the beach) while they were constructing a website to be the basis of another start-up idea.</td>\n      <td>mattsson</td>\n      <td>PERSON</td>\n      <td>GPE</td>\n    </tr>\n    <tr>\n      <th>21</th>\n      <td>Unlike the Raisová novel, it's not about necrophilia. What it is about, I suppose is anyone's guess. A brilliant piece of baroque pop.</td>\n      <td>Raisová</td>\n      <td>PERSON</td>\n      <td>O</td>\n    </tr>\n    <tr>\n      <th>22</th>\n      <td>Kristian shouted at Enrico: \"What are you doing here?\"</td>\n      <td>Kristian</td>\n      <td>PERSON</td>\n      <td>GPE</td>\n    </tr>\n    <tr>\n      <th>23</th>\n      <td>Kristian shouted at Enrico: \"What are you doing here?\"</td>\n      <td>Enrico</td>\n      <td>PERSON</td>\n      <td>GPE</td>\n    </tr>\n    <tr>\n      <th>24</th>\n      <td>Lucas shouted at Tuomo: \"What are you doing here?\"</td>\n      <td>Tuomo</td>\n      <td>PERSON</td>\n      <td>GPE</td>\n    </tr>\n    <tr>\n      <th>25</th>\n      <td>Dee'S Drive-In is the brainchild of our 3 founders: Katie Miles, Lewis Abbott and Ivan Petřík.  The idea was born (on the beach) while they were constructing a website to be the basis of another start-up idea.</td>\n      <td>Katie</td>\n      <td>PERSON</td>\n      <td>ORG</td>\n    </tr>\n    <tr>\n      <th>26</th>\n      <td>Dee'S Drive-In is the brainchild of our 3 founders: Katie Miles, Lewis Abbott and Ivan Petřík.  The idea was born (on the beach) while they were constructing a website to be the basis of another start-up idea.</td>\n      <td>Miles</td>\n      <td>PERSON</td>\n      <td>ORG</td>\n    </tr>\n    <tr>\n      <th>27</th>\n      <td>Dee'S Drive-In is the brainchild of our 3 founders: Katie Miles, Lewis Abbott and Ivan Petřík.  The idea was born (on the beach) while they were constructing a website to be the basis of another start-up idea.</td>\n      <td>Lewis</td>\n      <td>PERSON</td>\n      <td>ORG</td>\n    </tr>\n    <tr>\n      <th>28</th>\n      <td>Dee'S Drive-In is the brainchild of our 3 founders: Katie Miles, Lewis Abbott and Ivan Petřík.  The idea was born (on the beach) while they were constructing a website to be the basis of another start-up idea.</td>\n      <td>Abbott</td>\n      <td>PERSON</td>\n      <td>ORG</td>\n    </tr>\n    <tr>\n      <th>29</th>\n      <td>Susanne Fleischer listed his top 20 songs for Entertainment Weekly and had the balls to list this song at #15. (What did he put at #1 you ask? Answer:\"Tube Snake Boogie\" by Louelle van den Brandhof â€“ go figure)</td>\n      <td>den</td>\n      <td>PERSON</td>\n      <td>O</td>\n    </tr>\n  </tbody>\n</table>\n</div>"
     },
     "metadata": {},
     "output_type": "execute_result",
     "execution_count": 23
    }
   ],
   "source": [
    "fns_df[['full_text','token','annotation','prediction']]"
   ]
  },
  {
   "cell_type": "code",
   "execution_count": null,
   "metadata": {},
   "outputs": [],
   "source": []
  }
 ],
 "metadata": {
  "kernelspec": {
   "display_name": "Python 3",
   "language": "python",
   "name": "python3"
  },
  "language_info": {
   "codemirror_mode": {
    "name": "ipython",
    "version": 3
   },
   "file_extension": ".py",
   "mimetype": "text/x-python",
   "name": "python",
   "nbconvert_exporter": "python",
   "pygments_lexer": "ipython3",
   "version": "3.7.4"
  },
  "pycharm": {
   "stem_cell": {
    "cell_type": "raw",
    "source": [],
    "metadata": {
     "collapsed": false
    }
   }
  }
 },
 "nbformat": 4,
 "nbformat_minor": 2
}